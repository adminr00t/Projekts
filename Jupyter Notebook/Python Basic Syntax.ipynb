{
 "cells": [
  {
   "cell_type": "markdown",
   "metadata": {},
   "source": [
    "# Python Basics\n",
    "---\n",
    "\n",
    "## Intro to Python\n",
    "Python is general Purpose, interactive, object-oriented and high-level programming language. It more oriented towards web dev. Python can be used in scripts or in a CLI (the interactive part of Python). In can be integrated with C++ and Java (as well as others), has automatic garbage collection and supports functional and structured programming methods.\n",
    "\n",
    "## Invoking the Interpreter (Interactive Programming)\n",
    "The Interpreter can invoked by typing `py` into the CLI. This only works if the Python executable is installed. If Python was obtained through the windows store, the Interpreter can be invoked via the command `Python3.10`. Once the Interpreter is invoked, python \"commands\" can be entered. Below is an example of what invoking and entering \"commands\" into the interpreter looks like: \n",
    "\n",
    "```python\n",
    "{\n",
    "    PS G:\\Syncthing\\Coding> py\n",
    "    Python 3.10.6 (tags/v3.10.6:9c7b4bd, Aug  1 2022, 21:53:49) [MSC v.1932 64 bit (AMD64)] on win32\n",
    "    Type \"help\", \"copyright\", \"credits\" or \"license\" for more information.\n",
    "    >>> print(\"Hello, World\")\n",
    "    Hello, World\n",
    "}\n",
    "```\n"
   ]
  },
  {
   "cell_type": "markdown",
   "metadata": {},
   "source": [
    "Here is the same but with a variable set as \"Hello World!\""
   ]
  },
  {
   "cell_type": "code",
   "execution_count": 3,
   "metadata": {},
   "outputs": [
    {
     "name": "stdout",
     "output_type": "stream",
     "text": [
      "Hello World!\n"
     ]
    }
   ],
   "source": [
    "\n",
    "msg = \"Hello World!\"\n",
    "print(msg)"
   ]
  },
  {
   "cell_type": "markdown",
   "metadata": {},
   "source": []
  }
 ],
 "metadata": {
  "kernelspec": {
   "display_name": "Python 3.10.5 64-bit",
   "language": "python",
   "name": "python3"
  },
  "language_info": {
   "codemirror_mode": {
    "name": "ipython",
    "version": 3
   },
   "file_extension": ".py",
   "mimetype": "text/x-python",
   "name": "python",
   "nbconvert_exporter": "python",
   "pygments_lexer": "ipython3",
   "version": "3.10.6"
  },
  "orig_nbformat": 4,
  "vscode": {
   "interpreter": {
    "hash": "eef676e284424b87bc9cd9d50b9541b29af254bbf678abaae83721ea42606118"
   }
  }
 },
 "nbformat": 4,
 "nbformat_minor": 2
}
