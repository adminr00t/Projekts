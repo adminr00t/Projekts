{
 "cells": [
  {
   "cell_type": "markdown",
   "metadata": {},
   "source": [
    "# Python Basics\n",
    "---\n",
    "\n",
    "## Intro to Python\n",
    "Python is general Purpose, interactive, object-oriented and high-level programming language. It more oriented towards web dev. Python can be used in scripts or in a CLI (the interactive part of Python). In can be integrated with C++ and Java (as well as others), has automatic garbage collection and supports functional and structured programming methods.\n",
    "\n",
    "## Invoking the Interpreter (Interactive Programming)\n",
    "The Interpreter can invoked by typing `py` into the CLI. This only works if the Python executable is installed. If Python was obtained through the windows store, the Interpreter can be invoked via the command `Python3.10`. Once the Interpreter is invoked, python \"commands\" can be entered. Below is an example of what invoking and entering \"commands\" into the interpreter looks like: \n",
    "\n",
    "```python\n",
    "{\n",
    "    PS G:\\Syncthing\\Coding> py\n",
    "    Python 3.10.6 (tags/v3.10.6:9c7b4bd, Aug  1 2022, 21:53:49) [MSC v.1932 64 bit (AMD64)] on win32\n",
    "    Type \"help\", \"copyright\", \"credits\" or \"license\" for more information.\n",
    "    >>> print(\"Hello, World\")\n",
    "    Hello, World\n",
    "}\n",
    "```\n"
   ]
  },
  {
   "cell_type": "markdown",
   "metadata": {},
   "source": [
    "Here is the same but with a variable set as \"Hello World!\", but written as a Python Program, rather than in the Interpreter"
   ]
  },
  {
   "cell_type": "code",
   "execution_count": 3,
   "metadata": {},
   "outputs": [
    {
     "name": "stdout",
     "output_type": "stream",
     "text": [
      "Hello World!\n"
     ]
    }
   ],
   "source": [
    "\n",
    "msg = \"Hello World!\"\n",
    "print(msg)"
   ]
  },
  {
   "cell_type": "markdown",
   "metadata": {},
   "source": [
    "---\n"
   ]
  },
  {
   "cell_type": "markdown",
   "metadata": {},
   "source": [
    "## Basic Syntax\n",
    "Many similarities to C and Java, however of course there are differences. Here we will cover Identifiers, some Reserved Words, Lines and Indentation, Multi-line Statements, Quotations, Comments, User Interaction, Suites and Command Line Arguments\n",
    "\n",
    "### Identifiers\n",
    "- Used to Identify a variable, function, class, module or other object\n",
    "- Starts with A TO Z, a to z or _ followed by more letters, underscores\n",
    "- Characters such as @, $, and % are not allowed within Identifiers\n",
    "- Python is case sensitive\n",
    "\n",
    "### Reserved Words\n",
    "- Mostly the same as other languages\n",
    "\n",
    "### Lines and Indentation\n",
    "- Python does not use { } for code blocks\n",
    "- Code blocks are denoted with Indentation\n",
    "- Number of spaces in indentation is variable, but code within the block must be indented the same amount\n",
    "    ```Python\n",
    "    if true: \n",
    "        print(\"True\")\n",
    "    else:\n",
    "        print(\"False\")\n",
    "    ```\n",
    "- The below code block produces an error\n",
    "    ```Python\n",
    "    if true:\n",
    "    print(\"true\")\n",
    "    else:\n",
    "    print(\"False\")\n",
    "    ```\n",
    "\n",
    "### Multi-line Statements\n",
    "- \\ denotes line continuation\n",
    "    ```Python\n",
    "    total = item_one + \\\n",
    "            item_two + \\\n",
    "            item_three\n",
    "    ```\n",
    "- Statements contained within [], {} or () do not need line continuation\n",
    "    ```Python\n",
    "    days = ['Monday', 'Tuesday', 'Wednesday',\n",
    "    'Thursday', 'Friday']\n",
    "    ```\n",
    "\n",
    "#### Multi-line Statements on a Single Line\n",
    "- Using ; allows multiple statements on a new line, if neither statements start a new code block\n",
    "\n",
    "### Quotations\n",
    "\n",
    "### Comments"
   ]
  },
  {
   "cell_type": "markdown",
   "metadata": {},
   "source": [
    "## Variables and Data Types\n",
    "Here we will explore the Data types of Python and what you can do with Variables. We've already explored briefly what a variable is above.\n",
    "\n",
    "### Variables\n"
   ]
  }
 ],
 "metadata": {
  "kernelspec": {
   "display_name": "Python 3.10.5 64-bit",
   "language": "python",
   "name": "python3"
  },
  "language_info": {
   "codemirror_mode": {
    "name": "ipython",
    "version": 3
   },
   "file_extension": ".py",
   "mimetype": "text/x-python",
   "name": "python",
   "nbconvert_exporter": "python",
   "pygments_lexer": "ipython3",
   "version": "3.10.6"
  },
  "orig_nbformat": 4,
  "vscode": {
   "interpreter": {
    "hash": "eef676e284424b87bc9cd9d50b9541b29af254bbf678abaae83721ea42606118"
   }
  }
 },
 "nbformat": 4,
 "nbformat_minor": 2
}
